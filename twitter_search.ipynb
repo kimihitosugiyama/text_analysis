{
 "cells": [
  {
   "cell_type": "code",
   "execution_count": 4,
   "metadata": {},
   "outputs": [
    {
     "name": "stdout",
     "output_type": "stream",
     "text": [
      "====== Enter Serch KeyWord   =====\n"
     ]
    },
    {
     "name": "stdin",
     "output_type": "stream",
     "text": [
      ">   paypay -rt\n"
     ]
    },
    {
     "name": "stdout",
     "output_type": "stream",
     "text": [
      "====== Enter Tweet Data file =====\n"
     ]
    },
    {
     "name": "stdin",
     "output_type": "stream",
     "text": [
      ">   C:\\twitter\\text_analysis\\2020-04-07-paypay.csv\n"
     ]
    },
    {
     "name": "stdout",
     "output_type": "stream",
     "text": [
      "====== 検索する期間（自）「yyyy-mm-dd」 =====\n"
     ]
    },
    {
     "name": "stdin",
     "output_type": "stream",
     "text": [
      ">   2020-04-07\n"
     ]
    },
    {
     "name": "stdout",
     "output_type": "stream",
     "text": [
      "====== 検索する期間（至）「yyyy-mm-dd」 =====\n"
     ]
    },
    {
     "name": "stdin",
     "output_type": "stream",
     "text": [
      ">   2020-04-07\n"
     ]
    }
   ],
   "source": [
    "import tweepy\n",
    "import datetime\n",
    "import csv\n",
    "import codecs\n",
    "\n",
    "def gettwitterdata(keyword,dfile,sincedate,untildate):\n",
    "\n",
    "    #python で Twitter APIを使用するためのConsumerキー、アクセストークン設定\n",
    "    Consumer_key = '5xFc5PTRff3CrjvPVXJhJJjlc'\n",
    "    Consumer_secret = '6E9u8tORYuKIGaTFiYXSuO8GYuVIqSJtg5oevD7HB9CWwxnN9l'\n",
    "    Access_token = '189916635-ph27PYBhxy3xR6oO0cXwNEpNlhon2EvnxNqG0fnl'\n",
    "    Access_secret = 'AYozTKlULIZ2ZSkgz3Z5DLK83ZDQj74BRYz2s5YseOjSj'\n",
    "\n",
    "    #認証\n",
    "    auth = tweepy.OAuthHandler(Consumer_key, Consumer_secret)\n",
    "    auth.set_access_token(Access_token, Access_secret)\n",
    "\n",
    "    api = tweepy.API(auth, wait_on_rate_limit = True)\n",
    "\n",
    "    #検索キーワード設定 \n",
    "    q = keyword\n",
    "\n",
    "    #つぶやきを格納するリスト\n",
    "    tweets_data =[]\n",
    "\n",
    "    #カーソルを使用してデータ取得\n",
    "    for tweet in tweepy.Cursor(api.search, \n",
    "                               q=q, \n",
    "                               count=100,\n",
    "                               tweet_mode='extended',\n",
    "                               lang='ja',\n",
    "                               since=sincedate+'_00:00:00_JST', \n",
    "                               until=untildate+'_23:59:59_JST'\n",
    "                              ).items():\n",
    "\n",
    "            #つぶやきテキスト(FULL)を取得\n",
    "            tweets_data.append([tweet.user.screen_name,\n",
    "                                tweet.created_at + datetime.timedelta(hours=9),\n",
    "                                \"'\" + tweet.full_text.replace(\"\\n\",\" \"),\n",
    "                                tweet.favorite_count,\n",
    "                                tweet.retweet_count,\n",
    "                                #tweet.place.name,\n",
    "                                #tweet.quote_count,\n",
    "                                #tweet.reply_count,\n",
    "                                #tweet.hashtags.text,\n",
    "                                tweet.lang,\n",
    "                                tweet.user.location,\n",
    "                                \"'\" + tweet.user.description.replace(\"\\n\",\" \"),\n",
    "                                tweet.user.followers_count,\n",
    "                                tweet.user.verified,\n",
    "                                tweet.user.friends_count,\n",
    "                                tweet.user.statuses_count,\n",
    "                                tweet.user.created_at])\n",
    "\n",
    "    #print(sincedate+'_00:00:00_JST')\n",
    "    #print(untildate+'_00:00:00_JST')\n",
    "\n",
    "    #出力ファイル名\n",
    "    fname = r\"'\"+ dfile + \"'\"\n",
    "    fname = fname.replace(\"'\",\"\")\n",
    "\n",
    "    #ファイル出力\n",
    "    with open(fname, \"w\",newline='',encoding=\"utf-8\") as f:\n",
    "        writer = csv.writer(f, lineterminator='\\n')\n",
    "        writer.writerow([\"アカウント\",\n",
    "                         \"作成日\",\n",
    "                         \"ツイート\",\n",
    "                         \"良いね数\",\n",
    "                         \"リツイート数\",\n",
    "                         #\"場所\",\n",
    "                         #\"引用数\",\n",
    "                         #\"返信数\",\n",
    "                         #\"ハッシュタグ\",\n",
    "                         \"言語\",\n",
    "                         \"場所\",\n",
    "                         \"アカウントの説明\",\n",
    "                         \"フォロワー数\",\n",
    "                         \"認証の有無\",\n",
    "                         \"フォローしている数\",\n",
    "                         \"ツイート数\",\n",
    "                         \"アカウント作成日\"])\n",
    "        writer.writerows(tweets_data)\n",
    "        f.close\n",
    "\n",
    "if __name__ == '__main__':\n",
    "\n",
    "    #検索キーワードを入力  ※リツイートを除外する場合 「キーワード -RT 」と入力\n",
    "    print ('====== Enter Serch KeyWord   =====')\n",
    "    keyword = input('>  ')\n",
    "\n",
    "    #出力ファイル名を入力(相対パス or 絶対パス)\n",
    "    print ('====== Enter Tweet Data file =====')\n",
    "    dfile = input('>  ')\n",
    "\n",
    "    #検索する期間（自）\n",
    "    print ('====== 検索する期間（自）「yyyy-mm-dd」 =====')\n",
    "    sincedate = input('>  ')\n",
    "\n",
    "    #検索する期間（至）\n",
    "    print ('====== 検索する期間（至）「yyyy-mm-dd」 =====')\n",
    "    untildate = input('>  ')\n",
    "\n",
    "    gettwitterdata(keyword,dfile,sincedate,untildate)"
   ]
  },
  {
   "cell_type": "code",
   "execution_count": null,
   "metadata": {},
   "outputs": [],
   "source": []
  }
 ],
 "metadata": {
  "kernelspec": {
   "display_name": "Python 3",
   "language": "python",
   "name": "python3"
  },
  "language_info": {
   "codemirror_mode": {
    "name": "ipython",
    "version": 3
   },
   "file_extension": ".py",
   "mimetype": "text/x-python",
   "name": "python",
   "nbconvert_exporter": "python",
   "pygments_lexer": "ipython3",
   "version": "3.7.4"
  }
 },
 "nbformat": 4,
 "nbformat_minor": 4
}
