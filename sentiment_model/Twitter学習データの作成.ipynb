{
 "cells": [
  {
   "cell_type": "markdown",
   "metadata": {},
   "source": [
    "# 訓練、評価、テストデータ作成"
   ]
  },
  {
   "cell_type": "code",
   "execution_count": 11,
   "metadata": {
    "collapsed": true
   },
   "outputs": [],
   "source": [
    "#pathの追加（必要に応じて）\n",
    "import sys\n",
    "#sys.path.append('/home/siny/miniconda3/envs/pytorch/lib/python36.zip')\n",
    "#sys.path.append('/home/siny/miniconda3/envs/pytorch/lib/python3.6')\n",
    "#sys.path.append('/home/siny/miniconda3/envs/pytorch/lib/python3.6/lib-dynload')\n",
    "#sys.path.append('/home/siny/.local/lib/python3.6/site-packages')\n",
    "#sys.path.append('/home/siny/miniconda3/envs/pytorch/lib/python3.6/site-packages')"
   ]
  },
  {
   "cell_type": "code",
   "execution_count": 28,
   "metadata": {
    "collapsed": true
   },
   "outputs": [],
   "source": [
    "import csv\n",
    "import random\n",
    "\n",
    "\n",
    "#import pandas as pd\n",
    "#from pathlib import Path\n",
    "#import json"
   ]
  },
  {
   "cell_type": "markdown",
   "metadata": {},
   "source": [
    "## Twitter日本語評判分析データセット取得"
   ]
  },
  {
   "cell_type": "code",
   "execution_count": 54,
   "metadata": {},
   "outputs": [
    {
     "name": "stdout",
     "output_type": "stream",
     "text": [
      "ネガティブ数：1427、ポジティブ数：823、ニュートラル数：7121、ネガ＆ポジ数：53\n"
     ]
    }
   ],
   "source": [
    "data_path = \"data/Twitter日本語評判分析データセット.txt\"\n",
    "nega_data = []\n",
    "posi_data = []\n",
    "neut_data = []\n",
    "nandp_data = []\n",
    "with open(data_path, 'r', encoding='utf-8') as f:\n",
    "    reader = csv.reader(f, delimiter=',', quotechar='\"')\n",
    "    head = next(reader) # ヘッダ行は不要\n",
    "    for row in reader:\n",
    "        tweet = row[4]\n",
    "        tweet = tweet.replace(\"\\n\",\"\") # 改行は除く\n",
    "        if row[3] == 'positive':\n",
    "            posi_data.append(tweet)\n",
    "        elif row[3] == 'negative':\n",
    "            nega_data.append(tweet)\n",
    "        elif row[3] == 'neutral':\n",
    "            neut_data.append(tweet)\n",
    "        elif row[3] == 'NegaAndPosi':\n",
    "            nandp_data.append(tweet)\n",
    "        else:\n",
    "            print('予期しない感情がありました：' + row[3])\n",
    "            break\n",
    "print('ネガティブ数：{}、ポジティブ数：{}、ニュートラル数：{}、ネガ＆ポジ数：{}'.format(\n",
    "    len(nega_data),len(posi_data),len(neut_data),len(nandp_data)))"
   ]
  },
  {
   "cell_type": "markdown",
   "metadata": {},
   "source": [
    "## 訓練・検証・テストデータに分割\n",
    "- 訓練・検証データに含める感情はネガティブ、ポジティブ。\n",
    "- テストデータに含める感情は、ネガティブ、ポジティブ、ニュートラル、ネガ＆ポジ\n",
    "- train.tsv：ネガティブ、ポジティブそれぞれ60%。\n",
    "- validate.tsv：ネガティブ、ポジティブそれぞれ20%。\n",
    "- test.tsv：ネガティブ、ポジティブそれぞれ20%。ニュートラル、ネガ＆ポジ。"
   ]
  },
  {
   "cell_type": "code",
   "execution_count": 60,
   "metadata": {
    "scrolled": true
   },
   "outputs": [],
   "source": [
    "random.shuffle(nega_data)\n",
    "random.shuffle(posi_data)\n",
    "\n",
    "threshold1 = 0.6\n",
    "threshold2 = 0.8\n",
    "neg_num = len(nega_data)\n",
    "pos_num = len(posi_data)\n"
   ]
  },
  {
   "cell_type": "code",
   "execution_count": 61,
   "metadata": {},
   "outputs": [],
   "source": [
    "#ネガポジデータの生成(訓練データ)\n",
    "with open(\"data/train.tsv\", \"a\", encoding='utf-8') as f:\n",
    "    index = 0\n",
    "    for text in nega_data:\n",
    "        if index < neg_num * threshold1:\n",
    "            text = text+'\\t'+'0'+'\\t'+'\\n'\n",
    "            f.write(text)\n",
    "            index += 1\n",
    "        else:\n",
    "            break\n",
    "    index = 0\n",
    "    for text in posi_data:\n",
    "        if index < pos_num * threshold1:\n",
    "            text = text+'\\t'+'1'+'\\t'+'\\n'\n",
    "            f.write(text)\n",
    "            index += 1\n",
    "        else:\n",
    "            break"
   ]
  },
  {
   "cell_type": "code",
   "execution_count": 62,
   "metadata": {},
   "outputs": [],
   "source": [
    "# 検証データ作成\n",
    "with open(\"data/test.tsv\", \"a\", encoding='utf-8') as f:\n",
    "    index = 0\n",
    "    for text in nega_data:\n",
    "        if index >= neg_num * threshold1 and index < neg_num * threshold2:\n",
    "            text = text+'\\t'+'0'+'\\t'+'\\n'\n",
    "            f.write(text)\n",
    "            index += 1\n",
    "        else:\n",
    "            index += 1\n",
    "    index = 0\n",
    "    for text in posi_data:\n",
    "        if index >= pos_num * threshold1 and index < pos_num * threshold2:\n",
    "            text = text+'\\t'+'1'+'\\t'+'\\n'\n",
    "            f.write(text)\n",
    "            index += 1\n",
    "        else:\n",
    "            index += 1"
   ]
  },
  {
   "cell_type": "code",
   "execution_count": 63,
   "metadata": {
    "collapsed": true
   },
   "outputs": [],
   "source": [
    "# テストデータ（ネガティブ、ポジティブ）作成\n",
    "with open(\"data/test2.tsv\", \"a\", encoding='utf-8') as f:\n",
    "    index = 0\n",
    "    for text in nega_data:\n",
    "        if index >= neg_num * threshold2:\n",
    "            text = text+'\\t'+'0'+'\\t'+'\\n'\n",
    "            f.write(text)\n",
    "            index += 1\n",
    "        else:\n",
    "            index += 1\n",
    "    index = 0\n",
    "    for text in posi_data:\n",
    "        if index >= pos_num * threshold2:\n",
    "            text = text+'\\t'+'1'+'\\t'+'\\n'\n",
    "            f.write(text)\n",
    "            index += 1\n",
    "        else:\n",
    "            index += 1"
   ]
  },
  {
   "cell_type": "code",
   "execution_count": 64,
   "metadata": {
    "collapsed": true
   },
   "outputs": [],
   "source": [
    "# テストデータ（ニュートラル、ネガ＆ポジ）作成\n",
    "with open(\"data/test2_other.tsv\", \"a\", encoding='utf-8') as f:\n",
    "    for text in neut_data:\n",
    "        text = text+'\\t'+'2'+'\\t'+'\\n'\n",
    "        f.write(text)\n",
    "    for text in nandp_data:\n",
    "        text = text+'\\t'+'3'+'\\t'+'\\n'\n",
    "        f.write(text)"
   ]
  },
  {
   "cell_type": "code",
   "execution_count": null,
   "metadata": {
    "collapsed": true
   },
   "outputs": [],
   "source": []
  }
 ],
 "metadata": {
  "kernelspec": {
   "display_name": "Python 3",
   "language": "python",
   "name": "python3"
  },
  "language_info": {
   "codemirror_mode": {
    "name": "ipython",
    "version": 3
   },
   "file_extension": ".py",
   "mimetype": "text/x-python",
   "name": "python",
   "nbconvert_exporter": "python",
   "pygments_lexer": "ipython3",
   "version": "3.6.2"
  },
  "toc": {
   "base_numbering": 1,
   "nav_menu": {},
   "number_sections": true,
   "sideBar": true,
   "skip_h1_title": false,
   "title_cell": "Table of Contents",
   "title_sidebar": "Contents",
   "toc_cell": false,
   "toc_position": {
    "height": "calc(100% - 180px)",
    "left": "10px",
    "top": "150px",
    "width": "263px"
   },
   "toc_section_display": true,
   "toc_window_display": true
  },
  "varInspector": {
   "cols": {
    "lenName": 16,
    "lenType": 16,
    "lenVar": 40
   },
   "kernels_config": {
    "python": {
     "delete_cmd_postfix": "",
     "delete_cmd_prefix": "del ",
     "library": "var_list.py",
     "varRefreshCmd": "print(var_dic_list())"
    },
    "r": {
     "delete_cmd_postfix": ") ",
     "delete_cmd_prefix": "rm(",
     "library": "var_list.r",
     "varRefreshCmd": "cat(var_dic_list()) "
    }
   },
   "types_to_exclude": [
    "module",
    "function",
    "builtin_function_or_method",
    "instance",
    "_Feature"
   ],
   "window_display": false
  }
 },
 "nbformat": 4,
 "nbformat_minor": 2
}
